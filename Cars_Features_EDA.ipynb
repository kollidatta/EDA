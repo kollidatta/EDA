{
  "nbformat": 4,
  "nbformat_minor": 0,
  "metadata": {
    "colab": {
      "name": "Cars Features EDA.ipynb",
      "provenance": []
    },
    "kernelspec": {
      "name": "python3",
      "display_name": "Python 3"
    }
  },
  "cells": [
    {
      "cell_type": "markdown",
      "metadata": {
        "id": "yyfhKqQsVFmN",
        "colab_type": "text"
      },
      "source": [
        "\n",
        "# **EDA : Exploratary Data Analysis**\n",
        "\n",
        "This notebook deals with EDA of Car Features data set and the respective Price of each car based on those Features\n",
        "By performing this Data Analysis, many insights can be drawn and can also find any anamolies like outliers can be seen. Also we can see the relationship between multiple columns and target. \n",
        "\n",
        "### **EDA basics:**\n",
        "Basic Data analysis on any data can be started with considering the following sections\n",
        "\n",
        "\n",
        "1.   Descriptive Statistics\n",
        "2.   Grouping\n",
        "3.   ANOVA\n",
        "4.   Pearson Correlation\n",
        "5.   Correlation with Heat Maps\n"
      ]
    },
    {
      "cell_type": "code",
      "metadata": {
        "id": "6odKwEkTLcV7",
        "colab_type": "code",
        "colab": {}
      },
      "source": [
        "import pandas as pd\n",
        "import numpy as np\n",
        "import seaborn as sns\n",
        "import matplotlib.pyplot as plt\n"
      ],
      "execution_count": 51,
      "outputs": []
    },
    {
      "cell_type": "markdown",
      "metadata": {
        "id": "64EbKTYsVEme",
        "colab_type": "text"
      },
      "source": [
        "#loading the DataSet"
      ]
    },
    {
      "cell_type": "code",
      "metadata": {
        "id": "5wGok5LzQ-1A",
        "colab_type": "code",
        "colab": {}
      },
      "source": [
        "cars_df = pd.read_csv('data.csv')"
      ],
      "execution_count": 52,
      "outputs": []
    },
    {
      "cell_type": "markdown",
      "metadata": {
        "id": "UtyBrD3tVDOp",
        "colab_type": "text"
      },
      "source": [
        "#find out any cells in the DataSet is missing any values \n",
        "Below code prints the columns with total number of NaN values "
      ]
    },
    {
      "cell_type": "code",
      "metadata": {
        "id": "D24Bb9ZsKzVy",
        "colab_type": "code",
        "colab": {
          "base_uri": "https://localhost:8080/",
          "height": 0
        },
        "outputId": "7c063649-09ab-4bbd-8091-147e88fa28e6"
      },
      "source": [
        "cars_df.isna().sum()"
      ],
      "execution_count": 53,
      "outputs": [
        {
          "output_type": "execute_result",
          "data": {
            "text/plain": [
              "Make                    0\n",
              "Model                   0\n",
              "Year                    0\n",
              "Engine Fuel Type        3\n",
              "Engine HP              69\n",
              "Engine Cylinders       30\n",
              "Transmission Type       0\n",
              "Driven_Wheels           0\n",
              "Number of Doors         6\n",
              "Market Category      3742\n",
              "Vehicle Size            0\n",
              "Vehicle Style           0\n",
              "highway MPG             0\n",
              "city mpg                0\n",
              "Popularity              0\n",
              "MSRP                    0\n",
              "dtype: int64"
            ]
          },
          "metadata": {
            "tags": []
          },
          "execution_count": 53
        }
      ]
    },
    {
      "cell_type": "markdown",
      "metadata": {
        "id": "qnR-5xv6XoTc",
        "colab_type": "text"
      },
      "source": [
        "Seems like the columns Engine Fuel Type, Engine P, No of Doors and Market Category has values missing \n",
        "\n",
        "Below lines of codes fixes the missing Numerical and Categorical Data from DataSet"
      ]
    },
    {
      "cell_type": "code",
      "metadata": {
        "id": "chWa4yGkRV8c",
        "colab_type": "code",
        "colab": {}
      },
      "source": [
        "cars_df['Engine HP'] = cars_df['Engine HP'].fillna(round(cars_df['Engine HP'].mean()))\n",
        "\n",
        "cars_df['Engine Cylinders'] = cars_df['Engine Cylinders'].fillna(round(cars_df['Engine Cylinders'].mean()))\n",
        "\n",
        "cars_df['Number of Doors'] = cars_df['Number of Doors'].fillna(round(cars_df['Number of Doors'].mean()))\n",
        "\n",
        "cars_df['Engine Fuel Type'] = cars_df['Engine Fuel Type'].fillna(cars_df['Engine Fuel Type'].mode()[0])\n",
        "cars_df['Engine HP'] = cars_df['Engine HP'].fillna(cars_df['Engine HP'].mode()[0])\n",
        "\n",
        "cars_df['Market Category'] = cars_df['Market Category'].fillna(cars_df['Market Category'].mode()[0])"
      ],
      "execution_count": 54,
      "outputs": []
    },
    {
      "cell_type": "code",
      "metadata": {
        "id": "JlESZVd4Mc-k",
        "colab_type": "code",
        "colab": {
          "base_uri": "https://localhost:8080/",
          "height": 0
        },
        "outputId": "f7cba414-7681-424d-f5d1-13c14f363258"
      },
      "source": [
        "cars_df.head(5)"
      ],
      "execution_count": 55,
      "outputs": [
        {
          "output_type": "execute_result",
          "data": {
            "text/html": [
              "<div>\n",
              "<style scoped>\n",
              "    .dataframe tbody tr th:only-of-type {\n",
              "        vertical-align: middle;\n",
              "    }\n",
              "\n",
              "    .dataframe tbody tr th {\n",
              "        vertical-align: top;\n",
              "    }\n",
              "\n",
              "    .dataframe thead th {\n",
              "        text-align: right;\n",
              "    }\n",
              "</style>\n",
              "<table border=\"1\" class=\"dataframe\">\n",
              "  <thead>\n",
              "    <tr style=\"text-align: right;\">\n",
              "      <th></th>\n",
              "      <th>Make</th>\n",
              "      <th>Model</th>\n",
              "      <th>Year</th>\n",
              "      <th>Engine Fuel Type</th>\n",
              "      <th>Engine HP</th>\n",
              "      <th>Engine Cylinders</th>\n",
              "      <th>Transmission Type</th>\n",
              "      <th>Driven_Wheels</th>\n",
              "      <th>Number of Doors</th>\n",
              "      <th>Market Category</th>\n",
              "      <th>Vehicle Size</th>\n",
              "      <th>Vehicle Style</th>\n",
              "      <th>highway MPG</th>\n",
              "      <th>city mpg</th>\n",
              "      <th>Popularity</th>\n",
              "      <th>MSRP</th>\n",
              "    </tr>\n",
              "  </thead>\n",
              "  <tbody>\n",
              "    <tr>\n",
              "      <th>0</th>\n",
              "      <td>BMW</td>\n",
              "      <td>1 Series M</td>\n",
              "      <td>2011</td>\n",
              "      <td>premium unleaded (required)</td>\n",
              "      <td>335.0</td>\n",
              "      <td>6.0</td>\n",
              "      <td>MANUAL</td>\n",
              "      <td>rear wheel drive</td>\n",
              "      <td>2.0</td>\n",
              "      <td>Factory Tuner,Luxury,High-Performance</td>\n",
              "      <td>Compact</td>\n",
              "      <td>Coupe</td>\n",
              "      <td>26</td>\n",
              "      <td>19</td>\n",
              "      <td>3916</td>\n",
              "      <td>46135</td>\n",
              "    </tr>\n",
              "    <tr>\n",
              "      <th>1</th>\n",
              "      <td>BMW</td>\n",
              "      <td>1 Series</td>\n",
              "      <td>2011</td>\n",
              "      <td>premium unleaded (required)</td>\n",
              "      <td>300.0</td>\n",
              "      <td>6.0</td>\n",
              "      <td>MANUAL</td>\n",
              "      <td>rear wheel drive</td>\n",
              "      <td>2.0</td>\n",
              "      <td>Luxury,Performance</td>\n",
              "      <td>Compact</td>\n",
              "      <td>Convertible</td>\n",
              "      <td>28</td>\n",
              "      <td>19</td>\n",
              "      <td>3916</td>\n",
              "      <td>40650</td>\n",
              "    </tr>\n",
              "    <tr>\n",
              "      <th>2</th>\n",
              "      <td>BMW</td>\n",
              "      <td>1 Series</td>\n",
              "      <td>2011</td>\n",
              "      <td>premium unleaded (required)</td>\n",
              "      <td>300.0</td>\n",
              "      <td>6.0</td>\n",
              "      <td>MANUAL</td>\n",
              "      <td>rear wheel drive</td>\n",
              "      <td>2.0</td>\n",
              "      <td>Luxury,High-Performance</td>\n",
              "      <td>Compact</td>\n",
              "      <td>Coupe</td>\n",
              "      <td>28</td>\n",
              "      <td>20</td>\n",
              "      <td>3916</td>\n",
              "      <td>36350</td>\n",
              "    </tr>\n",
              "    <tr>\n",
              "      <th>3</th>\n",
              "      <td>BMW</td>\n",
              "      <td>1 Series</td>\n",
              "      <td>2011</td>\n",
              "      <td>premium unleaded (required)</td>\n",
              "      <td>230.0</td>\n",
              "      <td>6.0</td>\n",
              "      <td>MANUAL</td>\n",
              "      <td>rear wheel drive</td>\n",
              "      <td>2.0</td>\n",
              "      <td>Luxury,Performance</td>\n",
              "      <td>Compact</td>\n",
              "      <td>Coupe</td>\n",
              "      <td>28</td>\n",
              "      <td>18</td>\n",
              "      <td>3916</td>\n",
              "      <td>29450</td>\n",
              "    </tr>\n",
              "    <tr>\n",
              "      <th>4</th>\n",
              "      <td>BMW</td>\n",
              "      <td>1 Series</td>\n",
              "      <td>2011</td>\n",
              "      <td>premium unleaded (required)</td>\n",
              "      <td>230.0</td>\n",
              "      <td>6.0</td>\n",
              "      <td>MANUAL</td>\n",
              "      <td>rear wheel drive</td>\n",
              "      <td>2.0</td>\n",
              "      <td>Luxury</td>\n",
              "      <td>Compact</td>\n",
              "      <td>Convertible</td>\n",
              "      <td>28</td>\n",
              "      <td>18</td>\n",
              "      <td>3916</td>\n",
              "      <td>34500</td>\n",
              "    </tr>\n",
              "  </tbody>\n",
              "</table>\n",
              "</div>"
            ],
            "text/plain": [
              "  Make       Model  Year  ... city mpg  Popularity   MSRP\n",
              "0  BMW  1 Series M  2011  ...       19        3916  46135\n",
              "1  BMW    1 Series  2011  ...       19        3916  40650\n",
              "2  BMW    1 Series  2011  ...       20        3916  36350\n",
              "3  BMW    1 Series  2011  ...       18        3916  29450\n",
              "4  BMW    1 Series  2011  ...       18        3916  34500\n",
              "\n",
              "[5 rows x 16 columns]"
            ]
          },
          "metadata": {
            "tags": []
          },
          "execution_count": 55
        }
      ]
    },
    {
      "cell_type": "markdown",
      "metadata": {
        "id": "4idPBTZHFDf7",
        "colab_type": "text"
      },
      "source": [
        "# 1. Descriptive statistical Analysis: \n",
        "Let's first take a look at the variables by utilizing a description method.\n",
        "\n",
        "The describe function automatically computes basic statistics for all continuous variables. Any NaN values are automatically skipped in these statistics.\n",
        "\n",
        "This will show:\n",
        "\n",
        "1. the count of that variable\n",
        "2. the mean\n",
        "3. the standard deviation (std)\n",
        "4. the minimum value\n",
        "5. the IQR (Interquartile Range: 25%, 50% and 75%)\n",
        "6. the maximum value\n",
        "\n"
      ]
    },
    {
      "cell_type": "code",
      "metadata": {
        "id": "Jx11idKdRF5d",
        "colab_type": "code",
        "colab": {
          "base_uri": "https://localhost:8080/",
          "height": 334
        },
        "outputId": "5babbbb2-f26f-4fee-aa78-bbeb5b3de15e"
      },
      "source": [
        "#Df.describe only takes Numerical data columns into consideration\n",
        "cars_df.describe()"
      ],
      "execution_count": 56,
      "outputs": [
        {
          "output_type": "execute_result",
          "data": {
            "text/html": [
              "<div>\n",
              "<style scoped>\n",
              "    .dataframe tbody tr th:only-of-type {\n",
              "        vertical-align: middle;\n",
              "    }\n",
              "\n",
              "    .dataframe tbody tr th {\n",
              "        vertical-align: top;\n",
              "    }\n",
              "\n",
              "    .dataframe thead th {\n",
              "        text-align: right;\n",
              "    }\n",
              "</style>\n",
              "<table border=\"1\" class=\"dataframe\">\n",
              "  <thead>\n",
              "    <tr style=\"text-align: right;\">\n",
              "      <th></th>\n",
              "      <th>Year</th>\n",
              "      <th>Engine HP</th>\n",
              "      <th>Engine Cylinders</th>\n",
              "      <th>Number of Doors</th>\n",
              "      <th>highway MPG</th>\n",
              "      <th>city mpg</th>\n",
              "      <th>Popularity</th>\n",
              "      <th>MSRP</th>\n",
              "    </tr>\n",
              "  </thead>\n",
              "  <tbody>\n",
              "    <tr>\n",
              "      <th>count</th>\n",
              "      <td>11914.000000</td>\n",
              "      <td>11914.000000</td>\n",
              "      <td>11914.000000</td>\n",
              "      <td>11914.000000</td>\n",
              "      <td>11914.000000</td>\n",
              "      <td>11914.000000</td>\n",
              "      <td>11914.000000</td>\n",
              "      <td>1.191400e+04</td>\n",
              "    </tr>\n",
              "    <tr>\n",
              "      <th>mean</th>\n",
              "      <td>2010.384338</td>\n",
              "      <td>249.383834</td>\n",
              "      <td>5.629763</td>\n",
              "      <td>3.435874</td>\n",
              "      <td>26.637485</td>\n",
              "      <td>19.733255</td>\n",
              "      <td>1554.911197</td>\n",
              "      <td>4.059474e+04</td>\n",
              "    </tr>\n",
              "    <tr>\n",
              "      <th>std</th>\n",
              "      <td>7.579740</td>\n",
              "      <td>108.875196</td>\n",
              "      <td>1.778413</td>\n",
              "      <td>0.881148</td>\n",
              "      <td>8.863001</td>\n",
              "      <td>8.987798</td>\n",
              "      <td>1441.855347</td>\n",
              "      <td>6.010910e+04</td>\n",
              "    </tr>\n",
              "    <tr>\n",
              "      <th>min</th>\n",
              "      <td>1990.000000</td>\n",
              "      <td>55.000000</td>\n",
              "      <td>0.000000</td>\n",
              "      <td>2.000000</td>\n",
              "      <td>12.000000</td>\n",
              "      <td>7.000000</td>\n",
              "      <td>2.000000</td>\n",
              "      <td>2.000000e+03</td>\n",
              "    </tr>\n",
              "    <tr>\n",
              "      <th>25%</th>\n",
              "      <td>2007.000000</td>\n",
              "      <td>170.000000</td>\n",
              "      <td>4.000000</td>\n",
              "      <td>2.000000</td>\n",
              "      <td>22.000000</td>\n",
              "      <td>16.000000</td>\n",
              "      <td>549.000000</td>\n",
              "      <td>2.100000e+04</td>\n",
              "    </tr>\n",
              "    <tr>\n",
              "      <th>50%</th>\n",
              "      <td>2015.000000</td>\n",
              "      <td>227.000000</td>\n",
              "      <td>6.000000</td>\n",
              "      <td>4.000000</td>\n",
              "      <td>26.000000</td>\n",
              "      <td>18.000000</td>\n",
              "      <td>1385.000000</td>\n",
              "      <td>2.999500e+04</td>\n",
              "    </tr>\n",
              "    <tr>\n",
              "      <th>75%</th>\n",
              "      <td>2016.000000</td>\n",
              "      <td>300.000000</td>\n",
              "      <td>6.000000</td>\n",
              "      <td>4.000000</td>\n",
              "      <td>30.000000</td>\n",
              "      <td>22.000000</td>\n",
              "      <td>2009.000000</td>\n",
              "      <td>4.223125e+04</td>\n",
              "    </tr>\n",
              "    <tr>\n",
              "      <th>max</th>\n",
              "      <td>2017.000000</td>\n",
              "      <td>1001.000000</td>\n",
              "      <td>16.000000</td>\n",
              "      <td>4.000000</td>\n",
              "      <td>354.000000</td>\n",
              "      <td>137.000000</td>\n",
              "      <td>5657.000000</td>\n",
              "      <td>2.065902e+06</td>\n",
              "    </tr>\n",
              "  </tbody>\n",
              "</table>\n",
              "</div>"
            ],
            "text/plain": [
              "               Year     Engine HP  ...    Popularity          MSRP\n",
              "count  11914.000000  11914.000000  ...  11914.000000  1.191400e+04\n",
              "mean    2010.384338    249.383834  ...   1554.911197  4.059474e+04\n",
              "std        7.579740    108.875196  ...   1441.855347  6.010910e+04\n",
              "min     1990.000000     55.000000  ...      2.000000  2.000000e+03\n",
              "25%     2007.000000    170.000000  ...    549.000000  2.100000e+04\n",
              "50%     2015.000000    227.000000  ...   1385.000000  2.999500e+04\n",
              "75%     2016.000000    300.000000  ...   2009.000000  4.223125e+04\n",
              "max     2017.000000   1001.000000  ...   5657.000000  2.065902e+06\n",
              "\n",
              "[8 rows x 8 columns]"
            ]
          },
          "metadata": {
            "tags": []
          },
          "execution_count": 56
        }
      ]
    },
    {
      "cell_type": "markdown",
      "metadata": {
        "id": "es9CChajbS_h",
        "colab_type": "text"
      },
      "source": [
        "whereas include = 'all' as a paramter to describe takes every columns including the categorical columns into consideration "
      ]
    },
    {
      "cell_type": "code",
      "metadata": {
        "id": "yVObAwBiDayu",
        "colab_type": "code",
        "colab": {
          "base_uri": "https://localhost:8080/",
          "height": 461
        },
        "outputId": "27d9ea5b-7fca-4668-8ca9-d0095f0af6b3"
      },
      "source": [
        "cars_df.describe(include = 'all')"
      ],
      "execution_count": 57,
      "outputs": [
        {
          "output_type": "execute_result",
          "data": {
            "text/html": [
              "<div>\n",
              "<style scoped>\n",
              "    .dataframe tbody tr th:only-of-type {\n",
              "        vertical-align: middle;\n",
              "    }\n",
              "\n",
              "    .dataframe tbody tr th {\n",
              "        vertical-align: top;\n",
              "    }\n",
              "\n",
              "    .dataframe thead th {\n",
              "        text-align: right;\n",
              "    }\n",
              "</style>\n",
              "<table border=\"1\" class=\"dataframe\">\n",
              "  <thead>\n",
              "    <tr style=\"text-align: right;\">\n",
              "      <th></th>\n",
              "      <th>Make</th>\n",
              "      <th>Model</th>\n",
              "      <th>Year</th>\n",
              "      <th>Engine Fuel Type</th>\n",
              "      <th>Engine HP</th>\n",
              "      <th>Engine Cylinders</th>\n",
              "      <th>Transmission Type</th>\n",
              "      <th>Driven_Wheels</th>\n",
              "      <th>Number of Doors</th>\n",
              "      <th>Market Category</th>\n",
              "      <th>Vehicle Size</th>\n",
              "      <th>Vehicle Style</th>\n",
              "      <th>highway MPG</th>\n",
              "      <th>city mpg</th>\n",
              "      <th>Popularity</th>\n",
              "      <th>MSRP</th>\n",
              "    </tr>\n",
              "  </thead>\n",
              "  <tbody>\n",
              "    <tr>\n",
              "      <th>count</th>\n",
              "      <td>11914</td>\n",
              "      <td>11914</td>\n",
              "      <td>11914.000000</td>\n",
              "      <td>11914</td>\n",
              "      <td>11914.000000</td>\n",
              "      <td>11914.000000</td>\n",
              "      <td>11914</td>\n",
              "      <td>11914</td>\n",
              "      <td>11914.000000</td>\n",
              "      <td>11914</td>\n",
              "      <td>11914</td>\n",
              "      <td>11914</td>\n",
              "      <td>11914.000000</td>\n",
              "      <td>11914.000000</td>\n",
              "      <td>11914.000000</td>\n",
              "      <td>1.191400e+04</td>\n",
              "    </tr>\n",
              "    <tr>\n",
              "      <th>unique</th>\n",
              "      <td>48</td>\n",
              "      <td>915</td>\n",
              "      <td>NaN</td>\n",
              "      <td>10</td>\n",
              "      <td>NaN</td>\n",
              "      <td>NaN</td>\n",
              "      <td>5</td>\n",
              "      <td>4</td>\n",
              "      <td>NaN</td>\n",
              "      <td>71</td>\n",
              "      <td>3</td>\n",
              "      <td>16</td>\n",
              "      <td>NaN</td>\n",
              "      <td>NaN</td>\n",
              "      <td>NaN</td>\n",
              "      <td>NaN</td>\n",
              "    </tr>\n",
              "    <tr>\n",
              "      <th>top</th>\n",
              "      <td>Chevrolet</td>\n",
              "      <td>Silverado 1500</td>\n",
              "      <td>NaN</td>\n",
              "      <td>regular unleaded</td>\n",
              "      <td>NaN</td>\n",
              "      <td>NaN</td>\n",
              "      <td>AUTOMATIC</td>\n",
              "      <td>front wheel drive</td>\n",
              "      <td>NaN</td>\n",
              "      <td>Crossover</td>\n",
              "      <td>Compact</td>\n",
              "      <td>Sedan</td>\n",
              "      <td>NaN</td>\n",
              "      <td>NaN</td>\n",
              "      <td>NaN</td>\n",
              "      <td>NaN</td>\n",
              "    </tr>\n",
              "    <tr>\n",
              "      <th>freq</th>\n",
              "      <td>1123</td>\n",
              "      <td>156</td>\n",
              "      <td>NaN</td>\n",
              "      <td>7175</td>\n",
              "      <td>NaN</td>\n",
              "      <td>NaN</td>\n",
              "      <td>8266</td>\n",
              "      <td>4787</td>\n",
              "      <td>NaN</td>\n",
              "      <td>4852</td>\n",
              "      <td>4764</td>\n",
              "      <td>3048</td>\n",
              "      <td>NaN</td>\n",
              "      <td>NaN</td>\n",
              "      <td>NaN</td>\n",
              "      <td>NaN</td>\n",
              "    </tr>\n",
              "    <tr>\n",
              "      <th>mean</th>\n",
              "      <td>NaN</td>\n",
              "      <td>NaN</td>\n",
              "      <td>2010.384338</td>\n",
              "      <td>NaN</td>\n",
              "      <td>249.383834</td>\n",
              "      <td>5.629763</td>\n",
              "      <td>NaN</td>\n",
              "      <td>NaN</td>\n",
              "      <td>3.435874</td>\n",
              "      <td>NaN</td>\n",
              "      <td>NaN</td>\n",
              "      <td>NaN</td>\n",
              "      <td>26.637485</td>\n",
              "      <td>19.733255</td>\n",
              "      <td>1554.911197</td>\n",
              "      <td>4.059474e+04</td>\n",
              "    </tr>\n",
              "    <tr>\n",
              "      <th>std</th>\n",
              "      <td>NaN</td>\n",
              "      <td>NaN</td>\n",
              "      <td>7.579740</td>\n",
              "      <td>NaN</td>\n",
              "      <td>108.875196</td>\n",
              "      <td>1.778413</td>\n",
              "      <td>NaN</td>\n",
              "      <td>NaN</td>\n",
              "      <td>0.881148</td>\n",
              "      <td>NaN</td>\n",
              "      <td>NaN</td>\n",
              "      <td>NaN</td>\n",
              "      <td>8.863001</td>\n",
              "      <td>8.987798</td>\n",
              "      <td>1441.855347</td>\n",
              "      <td>6.010910e+04</td>\n",
              "    </tr>\n",
              "    <tr>\n",
              "      <th>min</th>\n",
              "      <td>NaN</td>\n",
              "      <td>NaN</td>\n",
              "      <td>1990.000000</td>\n",
              "      <td>NaN</td>\n",
              "      <td>55.000000</td>\n",
              "      <td>0.000000</td>\n",
              "      <td>NaN</td>\n",
              "      <td>NaN</td>\n",
              "      <td>2.000000</td>\n",
              "      <td>NaN</td>\n",
              "      <td>NaN</td>\n",
              "      <td>NaN</td>\n",
              "      <td>12.000000</td>\n",
              "      <td>7.000000</td>\n",
              "      <td>2.000000</td>\n",
              "      <td>2.000000e+03</td>\n",
              "    </tr>\n",
              "    <tr>\n",
              "      <th>25%</th>\n",
              "      <td>NaN</td>\n",
              "      <td>NaN</td>\n",
              "      <td>2007.000000</td>\n",
              "      <td>NaN</td>\n",
              "      <td>170.000000</td>\n",
              "      <td>4.000000</td>\n",
              "      <td>NaN</td>\n",
              "      <td>NaN</td>\n",
              "      <td>2.000000</td>\n",
              "      <td>NaN</td>\n",
              "      <td>NaN</td>\n",
              "      <td>NaN</td>\n",
              "      <td>22.000000</td>\n",
              "      <td>16.000000</td>\n",
              "      <td>549.000000</td>\n",
              "      <td>2.100000e+04</td>\n",
              "    </tr>\n",
              "    <tr>\n",
              "      <th>50%</th>\n",
              "      <td>NaN</td>\n",
              "      <td>NaN</td>\n",
              "      <td>2015.000000</td>\n",
              "      <td>NaN</td>\n",
              "      <td>227.000000</td>\n",
              "      <td>6.000000</td>\n",
              "      <td>NaN</td>\n",
              "      <td>NaN</td>\n",
              "      <td>4.000000</td>\n",
              "      <td>NaN</td>\n",
              "      <td>NaN</td>\n",
              "      <td>NaN</td>\n",
              "      <td>26.000000</td>\n",
              "      <td>18.000000</td>\n",
              "      <td>1385.000000</td>\n",
              "      <td>2.999500e+04</td>\n",
              "    </tr>\n",
              "    <tr>\n",
              "      <th>75%</th>\n",
              "      <td>NaN</td>\n",
              "      <td>NaN</td>\n",
              "      <td>2016.000000</td>\n",
              "      <td>NaN</td>\n",
              "      <td>300.000000</td>\n",
              "      <td>6.000000</td>\n",
              "      <td>NaN</td>\n",
              "      <td>NaN</td>\n",
              "      <td>4.000000</td>\n",
              "      <td>NaN</td>\n",
              "      <td>NaN</td>\n",
              "      <td>NaN</td>\n",
              "      <td>30.000000</td>\n",
              "      <td>22.000000</td>\n",
              "      <td>2009.000000</td>\n",
              "      <td>4.223125e+04</td>\n",
              "    </tr>\n",
              "    <tr>\n",
              "      <th>max</th>\n",
              "      <td>NaN</td>\n",
              "      <td>NaN</td>\n",
              "      <td>2017.000000</td>\n",
              "      <td>NaN</td>\n",
              "      <td>1001.000000</td>\n",
              "      <td>16.000000</td>\n",
              "      <td>NaN</td>\n",
              "      <td>NaN</td>\n",
              "      <td>4.000000</td>\n",
              "      <td>NaN</td>\n",
              "      <td>NaN</td>\n",
              "      <td>NaN</td>\n",
              "      <td>354.000000</td>\n",
              "      <td>137.000000</td>\n",
              "      <td>5657.000000</td>\n",
              "      <td>2.065902e+06</td>\n",
              "    </tr>\n",
              "  </tbody>\n",
              "</table>\n",
              "</div>"
            ],
            "text/plain": [
              "             Make           Model  ...    Popularity          MSRP\n",
              "count       11914           11914  ...  11914.000000  1.191400e+04\n",
              "unique         48             915  ...           NaN           NaN\n",
              "top     Chevrolet  Silverado 1500  ...           NaN           NaN\n",
              "freq         1123             156  ...           NaN           NaN\n",
              "mean          NaN             NaN  ...   1554.911197  4.059474e+04\n",
              "std           NaN             NaN  ...   1441.855347  6.010910e+04\n",
              "min           NaN             NaN  ...      2.000000  2.000000e+03\n",
              "25%           NaN             NaN  ...    549.000000  2.100000e+04\n",
              "50%           NaN             NaN  ...   1385.000000  2.999500e+04\n",
              "75%           NaN             NaN  ...   2009.000000  4.223125e+04\n",
              "max           NaN             NaN  ...   5657.000000  2.065902e+06\n",
              "\n",
              "[11 rows x 16 columns]"
            ]
          },
          "metadata": {
            "tags": []
          },
          "execution_count": 57
        }
      ]
    },
    {
      "cell_type": "code",
      "metadata": {
        "id": "j9Mv6HAFDh0W",
        "colab_type": "code",
        "colab": {
          "base_uri": "https://localhost:8080/",
          "height": 306
        },
        "outputId": "0eb9b836-cb23-442d-fdec-1253988f0877"
      },
      "source": [
        "cars_df.dtypes"
      ],
      "execution_count": 58,
      "outputs": [
        {
          "output_type": "execute_result",
          "data": {
            "text/plain": [
              "Make                  object\n",
              "Model                 object\n",
              "Year                   int64\n",
              "Engine Fuel Type      object\n",
              "Engine HP            float64\n",
              "Engine Cylinders     float64\n",
              "Transmission Type     object\n",
              "Driven_Wheels         object\n",
              "Number of Doors      float64\n",
              "Market Category       object\n",
              "Vehicle Size          object\n",
              "Vehicle Style         object\n",
              "highway MPG            int64\n",
              "city mpg               int64\n",
              "Popularity             int64\n",
              "MSRP                   int64\n",
              "dtype: object"
            ]
          },
          "metadata": {
            "tags": []
          },
          "execution_count": 58
        }
      ]
    },
    {
      "cell_type": "markdown",
      "metadata": {
        "id": "5evL5rAzb6p2",
        "colab_type": "text"
      },
      "source": [
        "Value-counts is a good way of understanding how many units of each characteristic/variable we have. We can apply the \"value_counts\" method on the column 'drive-wheels'. Don’t forget the method \"value_counts\" only works on Pandas series, not Pandas Dataframes. As a result, we only include one bracket \"df['drive-wheels']\" not two brackets \"df[['drive-wheels']]\"."
      ]
    },
    {
      "cell_type": "code",
      "metadata": {
        "id": "MEbyCDVPGxli",
        "colab_type": "code",
        "colab": {
          "base_uri": "https://localhost:8080/",
          "height": 85
        },
        "outputId": "201f63dc-b41d-4d2a-9757-17be322d5ae6"
      },
      "source": [
        "cars_df['Vehicle Size'].value_counts()"
      ],
      "execution_count": 59,
      "outputs": [
        {
          "output_type": "execute_result",
          "data": {
            "text/plain": [
              "Compact    4764\n",
              "Midsize    4373\n",
              "Large      2777\n",
              "Name: Vehicle Size, dtype: int64"
            ]
          },
          "metadata": {
            "tags": []
          },
          "execution_count": 59
        }
      ]
    },
    {
      "cell_type": "code",
      "metadata": {
        "id": "PGy9k7etJ2I4",
        "colab_type": "code",
        "colab": {
          "base_uri": "https://localhost:8080/",
          "height": 204
        },
        "outputId": "f04b0ea0-1d0f-467b-82f0-ccb1d2a41de8"
      },
      "source": [
        "drive_wheels_counts = cars_df['Driven_Wheels'].value_counts().to_frame()\n",
        "drive_wheels_counts.rename(columns={'drive-wheels': 'value_counts'}, inplace=True)\n",
        "drive_wheels_counts.index.name = 'drive-wheels'\n",
        "drive_wheels_counts"
      ],
      "execution_count": 60,
      "outputs": [
        {
          "output_type": "execute_result",
          "data": {
            "text/html": [
              "<div>\n",
              "<style scoped>\n",
              "    .dataframe tbody tr th:only-of-type {\n",
              "        vertical-align: middle;\n",
              "    }\n",
              "\n",
              "    .dataframe tbody tr th {\n",
              "        vertical-align: top;\n",
              "    }\n",
              "\n",
              "    .dataframe thead th {\n",
              "        text-align: right;\n",
              "    }\n",
              "</style>\n",
              "<table border=\"1\" class=\"dataframe\">\n",
              "  <thead>\n",
              "    <tr style=\"text-align: right;\">\n",
              "      <th></th>\n",
              "      <th>Driven_Wheels</th>\n",
              "    </tr>\n",
              "    <tr>\n",
              "      <th>drive-wheels</th>\n",
              "      <th></th>\n",
              "    </tr>\n",
              "  </thead>\n",
              "  <tbody>\n",
              "    <tr>\n",
              "      <th>front wheel drive</th>\n",
              "      <td>4787</td>\n",
              "    </tr>\n",
              "    <tr>\n",
              "      <th>rear wheel drive</th>\n",
              "      <td>3371</td>\n",
              "    </tr>\n",
              "    <tr>\n",
              "      <th>all wheel drive</th>\n",
              "      <td>2353</td>\n",
              "    </tr>\n",
              "    <tr>\n",
              "      <th>four wheel drive</th>\n",
              "      <td>1403</td>\n",
              "    </tr>\n",
              "  </tbody>\n",
              "</table>\n",
              "</div>"
            ],
            "text/plain": [
              "                   Driven_Wheels\n",
              "drive-wheels                    \n",
              "front wheel drive           4787\n",
              "rear wheel drive            3371\n",
              "all wheel drive             2353\n",
              "four wheel drive            1403"
            ]
          },
          "metadata": {
            "tags": []
          },
          "execution_count": 60
        }
      ]
    },
    {
      "cell_type": "code",
      "metadata": {
        "id": "nV0AbnesL0qb",
        "colab_type": "code",
        "colab": {
          "base_uri": "https://localhost:8080/",
          "height": 359
        },
        "outputId": "754cb1bb-b965-403b-cd10-966e2e82e59a"
      },
      "source": [
        "model_counts = cars_df['Engine Fuel Type'].value_counts().to_frame()\n",
        "model_counts.rename(columns={'Engine Fuel Type': 'value_counts'}, inplace=True)\n",
        "model_counts"
      ],
      "execution_count": 61,
      "outputs": [
        {
          "output_type": "execute_result",
          "data": {
            "text/html": [
              "<div>\n",
              "<style scoped>\n",
              "    .dataframe tbody tr th:only-of-type {\n",
              "        vertical-align: middle;\n",
              "    }\n",
              "\n",
              "    .dataframe tbody tr th {\n",
              "        vertical-align: top;\n",
              "    }\n",
              "\n",
              "    .dataframe thead th {\n",
              "        text-align: right;\n",
              "    }\n",
              "</style>\n",
              "<table border=\"1\" class=\"dataframe\">\n",
              "  <thead>\n",
              "    <tr style=\"text-align: right;\">\n",
              "      <th></th>\n",
              "      <th>value_counts</th>\n",
              "    </tr>\n",
              "  </thead>\n",
              "  <tbody>\n",
              "    <tr>\n",
              "      <th>regular unleaded</th>\n",
              "      <td>7175</td>\n",
              "    </tr>\n",
              "    <tr>\n",
              "      <th>premium unleaded (required)</th>\n",
              "      <td>2009</td>\n",
              "    </tr>\n",
              "    <tr>\n",
              "      <th>premium unleaded (recommended)</th>\n",
              "      <td>1523</td>\n",
              "    </tr>\n",
              "    <tr>\n",
              "      <th>flex-fuel (unleaded/E85)</th>\n",
              "      <td>899</td>\n",
              "    </tr>\n",
              "    <tr>\n",
              "      <th>diesel</th>\n",
              "      <td>154</td>\n",
              "    </tr>\n",
              "    <tr>\n",
              "      <th>electric</th>\n",
              "      <td>66</td>\n",
              "    </tr>\n",
              "    <tr>\n",
              "      <th>flex-fuel (premium unleaded required/E85)</th>\n",
              "      <td>54</td>\n",
              "    </tr>\n",
              "    <tr>\n",
              "      <th>flex-fuel (premium unleaded recommended/E85)</th>\n",
              "      <td>26</td>\n",
              "    </tr>\n",
              "    <tr>\n",
              "      <th>flex-fuel (unleaded/natural gas)</th>\n",
              "      <td>6</td>\n",
              "    </tr>\n",
              "    <tr>\n",
              "      <th>natural gas</th>\n",
              "      <td>2</td>\n",
              "    </tr>\n",
              "  </tbody>\n",
              "</table>\n",
              "</div>"
            ],
            "text/plain": [
              "                                              value_counts\n",
              "regular unleaded                                      7175\n",
              "premium unleaded (required)                           2009\n",
              "premium unleaded (recommended)                        1523\n",
              "flex-fuel (unleaded/E85)                               899\n",
              "diesel                                                 154\n",
              "electric                                                66\n",
              "flex-fuel (premium unleaded required/E85)               54\n",
              "flex-fuel (premium unleaded recommended/E85)            26\n",
              "flex-fuel (unleaded/natural gas)                         6\n",
              "natural gas                                              2"
            ]
          },
          "metadata": {
            "tags": []
          },
          "execution_count": 61
        }
      ]
    },
    {
      "cell_type": "markdown",
      "metadata": {
        "id": "NeTWXOLbcTlA",
        "colab_type": "text"
      },
      "source": [
        "**Visualizing the Analysis through Regression Plots** \n",
        "\n",
        "Box plots are better way to visualise the categorical values"
      ]
    },
    {
      "cell_type": "code",
      "metadata": {
        "id": "xW3_cOAJOCv_",
        "colab_type": "code",
        "colab": {
          "base_uri": "https://localhost:8080/",
          "height": 633
        },
        "outputId": "7f0cb7c5-8d56-421b-d97b-d63cb616a34b"
      },
      "source": [
        "plt.figure(figsize=(10,10))\n",
        "sns.boxplot(cars_df['Vehicle Size'], cars_df['MSRP'], data = cars_df)"
      ],
      "execution_count": 62,
      "outputs": [
        {
          "output_type": "execute_result",
          "data": {
            "text/plain": [
              "<matplotlib.axes._subplots.AxesSubplot at 0x7f05a9a59400>"
            ]
          },
          "metadata": {
            "tags": []
          },
          "execution_count": 62
        },
        {
          "output_type": "display_data",
          "data": {
            "image/png": "[encoded data removed]",
            "text/plain": [
              "<Figure size 720x720 with 1 Axes>"
            ]
          },
          "metadata": {
            "tags": [],
            "needs_background": "light"
          }
        }
      ]
    },
    {
      "cell_type": "markdown",
      "metadata": {
        "id": "hRW4uzDYdJsy",
        "colab_type": "text"
      },
      "source": [
        "Regplot are used for numerical data in DataSet"
      ]
    },
    {
      "cell_type": "code",
      "metadata": {
        "id": "Sm1fdmdBQrhA",
        "colab_type": "code",
        "colab": {
          "base_uri": "https://localhost:8080/",
          "height": 633
        },
        "outputId": "b194d7e7-6018-498e-ce56-e059a5140341"
      },
      "source": [
        "plt.figure(figsize=(10,10))\n",
        "sns.regplot(x =cars_df['Engine HP'] ,y = cars_df['MSRP'], data = cars_df)\n",
        "plt.ylim(0,)\n"
      ],
      "execution_count": 63,
      "outputs": [
        {
          "output_type": "execute_result",
          "data": {
            "text/plain": [
              "(0.0, 2171031.458804115)"
            ]
          },
          "metadata": {
            "tags": []
          },
          "execution_count": 63
        },
        {
          "output_type": "display_data",
          "data": {
            "image/png": "[encoded data removed]",
            "text/plain": [
              "<Figure size 720x720 with 1 Axes>"
            ]
          },
          "metadata": {
            "tags": [],
            "needs_background": "light"
          }
        }
      ]
    },
    {
      "cell_type": "markdown",
      "metadata": {
        "id": "AeYpQWrSdT9s",
        "colab_type": "text"
      },
      "source": [
        "The above graph shows there is a positive relationship between Engine HP and MSRP as the HP increases the MSRP increases"
      ]
    },
    {
      "cell_type": "code",
      "metadata": {
        "id": "I4_Veg2SRKfx",
        "colab_type": "code",
        "colab": {
          "base_uri": "https://localhost:8080/",
          "height": 633
        },
        "outputId": "e3197b0d-0b8e-4bf3-a185-a550809840f7"
      },
      "source": [
        "plt.figure(figsize=(10,10))\n",
        "sns.regplot(x =cars_df['Engine Cylinders'] ,y = cars_df['MSRP'], data = cars_df)\n",
        "plt.ylim(0,)"
      ],
      "execution_count": 64,
      "outputs": [
        {
          "output_type": "execute_result",
          "data": {
            "text/plain": [
              "(0.0, 2172708.538622674)"
            ]
          },
          "metadata": {
            "tags": []
          },
          "execution_count": 64
        },
        {
          "output_type": "display_data",
          "data": {
            "image/png": "[encoded data removed]",
            "text/plain": [
              "<Figure size 720x720 with 1 Axes>"
            ]
          },
          "metadata": {
            "tags": [],
            "needs_background": "light"
          }
        }
      ]
    },
    {
      "cell_type": "markdown",
      "metadata": {
        "id": "fpWpB3Z6eIDy",
        "colab_type": "text"
      },
      "source": [
        "the same positive relationship can be seen between Engine cylinders and MSRP."
      ]
    },
    {
      "cell_type": "code",
      "metadata": {
        "id": "0UsItdGILm0_",
        "colab_type": "code",
        "colab": {
          "base_uri": "https://localhost:8080/",
          "height": 633
        },
        "outputId": "f8d81ecc-fa3c-419e-b410-6adbc84de24f"
      },
      "source": [
        "plt.figure(figsize=(10,10))\n",
        "sns.regplot(x =cars_df['highway MPG'] ,y = cars_df['MSRP'], data = cars_df)\n",
        "plt.ylim(0,)"
      ],
      "execution_count": 65,
      "outputs": [
        {
          "output_type": "execute_result",
          "data": {
            "text/plain": [
              "(0.0, 2189715.5063831303)"
            ]
          },
          "metadata": {
            "tags": []
          },
          "execution_count": 65
        },
        {
          "output_type": "display_data",
          "data": {
            "image/png": "[encoded data removed]",
            "text/plain": [
              "<Figure size 720x720 with 1 Axes>"
            ]
          },
          "metadata": {
            "tags": [],
            "needs_background": "light"
          }
        }
      ]
    },
    {
      "cell_type": "markdown",
      "metadata": {
        "id": "HgL5SbJoeqXn",
        "colab_type": "text"
      },
      "source": [
        "Any subject matter expert can say that Mileage plays an important role in price of car but as the regreession plot is as not clear as the above pictures. Still there is a negative relationship between mileage and price as the mileage decreases the price goes up. "
      ]
    },
    {
      "cell_type": "code",
      "metadata": {
        "id": "jIOhj8-hMflc",
        "colab_type": "code",
        "colab": {
          "base_uri": "https://localhost:8080/",
          "height": 633
        },
        "outputId": "a664e999-7dc6-4223-d9ac-3b64e10addd3"
      },
      "source": [
        "plt.figure(figsize=(10,10))\n",
        "sns.regplot(x ='city mpg' ,y = 'MSRP', data = cars_df)\n",
        "plt.ylim(0,)"
      ],
      "execution_count": 66,
      "outputs": [
        {
          "output_type": "execute_result",
          "data": {
            "text/plain": [
              "(0.0, 2174851.719812391)"
            ]
          },
          "metadata": {
            "tags": []
          },
          "execution_count": 66
        },
        {
          "output_type": "display_data",
          "data": {
            "image/png": "[encoded data removed]",
            "text/plain": [
              "<Figure size 720x720 with 1 Axes>"
            ]
          },
          "metadata": {
            "tags": [],
            "needs_background": "light"
          }
        }
      ]
    },
    {
      "cell_type": "markdown",
      "metadata": {
        "id": "jI7ZuYRxMpQc",
        "colab_type": "text"
      },
      "source": [
        "# 2. Grouping\n",
        "The \"groupby\" method groups data by different categories. The data is grouped based on one or several variables and analysis is performed on the individual groups.\n",
        "\n",
        "For example, let's group by the variable \"driven-wheels\". We see that there are 3 different categories of drive wheels.\n"
      ]
    },
    {
      "cell_type": "code",
      "metadata": {
        "id": "v1yTecj7MthD",
        "colab_type": "code",
        "colab": {}
      },
      "source": [
        "df_group_one =  cars_df[['Driven_Wheels', 'Engine Fuel Type', 'MSRP']]"
      ],
      "execution_count": 67,
      "outputs": []
    },
    {
      "cell_type": "markdown",
      "metadata": {
        "id": "6TjSZ9mKp-pT",
        "colab_type": "text"
      },
      "source": [
        "If we want to know, on average, which type of drive wheel is most valuable, we can group \"drive-wheels\" and then average them.\n",
        "\n",
        "We can select the columns 'drive-wheels', 'Engine Fuel Type' and 'price', then assign it to the variable \"df_group_one\"."
      ]
    },
    {
      "cell_type": "code",
      "metadata": {
        "id": "3bzZoOcxTALJ",
        "colab_type": "code",
        "colab": {
          "base_uri": "https://localhost:8080/",
          "height": 173
        },
        "outputId": "e4777557-9598-4525-e469-de2be9f536f1"
      },
      "source": [
        "df_group_one = df_group_one.groupby(['Driven_Wheels'],as_index=False).mean()\n",
        "df_group_one"
      ],
      "execution_count": 68,
      "outputs": [
        {
          "output_type": "execute_result",
          "data": {
            "text/html": [
              "<div>\n",
              "<style scoped>\n",
              "    .dataframe tbody tr th:only-of-type {\n",
              "        vertical-align: middle;\n",
              "    }\n",
              "\n",
              "    .dataframe tbody tr th {\n",
              "        vertical-align: top;\n",
              "    }\n",
              "\n",
              "    .dataframe thead th {\n",
              "        text-align: right;\n",
              "    }\n",
              "</style>\n",
              "<table border=\"1\" class=\"dataframe\">\n",
              "  <thead>\n",
              "    <tr style=\"text-align: right;\">\n",
              "      <th></th>\n",
              "      <th>Driven_Wheels</th>\n",
              "      <th>MSRP</th>\n",
              "    </tr>\n",
              "  </thead>\n",
              "  <tbody>\n",
              "    <tr>\n",
              "      <th>0</th>\n",
              "      <td>all wheel drive</td>\n",
              "      <td>58693.884828</td>\n",
              "    </tr>\n",
              "    <tr>\n",
              "      <th>1</th>\n",
              "      <td>four wheel drive</td>\n",
              "      <td>35312.039914</td>\n",
              "    </tr>\n",
              "    <tr>\n",
              "      <th>2</th>\n",
              "      <td>front wheel drive</td>\n",
              "      <td>23056.747650</td>\n",
              "    </tr>\n",
              "    <tr>\n",
              "      <th>3</th>\n",
              "      <td>rear wheel drive</td>\n",
              "      <td>55064.830317</td>\n",
              "    </tr>\n",
              "  </tbody>\n",
              "</table>\n",
              "</div>"
            ],
            "text/plain": [
              "       Driven_Wheels          MSRP\n",
              "0    all wheel drive  58693.884828\n",
              "1   four wheel drive  35312.039914\n",
              "2  front wheel drive  23056.747650\n",
              "3   rear wheel drive  55064.830317"
            ]
          },
          "metadata": {
            "tags": []
          },
          "execution_count": 68
        }
      ]
    },
    {
      "cell_type": "markdown",
      "metadata": {
        "id": "cHygnVxYoXsh",
        "colab_type": "text"
      },
      "source": [
        "The above code shows the average price of each "
      ]
    },
    {
      "cell_type": "code",
      "metadata": {
        "id": "idjbwOZ8WDdl",
        "colab_type": "code",
        "colab": {}
      },
      "source": [
        "df_group_one =  cars_df[['Driven_Wheels', 'Engine Fuel Type', 'MSRP']]"
      ],
      "execution_count": 69,
      "outputs": []
    },
    {
      "cell_type": "code",
      "metadata": {
        "id": "r2U9-ZbOT4mH",
        "colab_type": "code",
        "colab": {
          "base_uri": "https://localhost:8080/",
          "height": 948
        },
        "outputId": "aafd48bc-0cfc-428c-f248-9c1c1c49124f"
      },
      "source": [
        "df_group_one = df_group_one.groupby(['Driven_Wheels', 'Engine Fuel Type'],as_index=False).mean()\n",
        "df_group_one"
      ],
      "execution_count": 70,
      "outputs": [
        {
          "output_type": "execute_result",
          "data": {
            "text/html": [
              "<div>\n",
              "<style scoped>\n",
              "    .dataframe tbody tr th:only-of-type {\n",
              "        vertical-align: middle;\n",
              "    }\n",
              "\n",
              "    .dataframe tbody tr th {\n",
              "        vertical-align: top;\n",
              "    }\n",
              "\n",
              "    .dataframe thead th {\n",
              "        text-align: right;\n",
              "    }\n",
              "</style>\n",
              "<table border=\"1\" class=\"dataframe\">\n",
              "  <thead>\n",
              "    <tr style=\"text-align: right;\">\n",
              "      <th></th>\n",
              "      <th>Driven_Wheels</th>\n",
              "      <th>Engine Fuel Type</th>\n",
              "      <th>MSRP</th>\n",
              "    </tr>\n",
              "  </thead>\n",
              "  <tbody>\n",
              "    <tr>\n",
              "      <th>0</th>\n",
              "      <td>all wheel drive</td>\n",
              "      <td>diesel</td>\n",
              "      <td>55652.460317</td>\n",
              "    </tr>\n",
              "    <tr>\n",
              "      <th>1</th>\n",
              "      <td>all wheel drive</td>\n",
              "      <td>electric</td>\n",
              "      <td>90636.363636</td>\n",
              "    </tr>\n",
              "    <tr>\n",
              "      <th>2</th>\n",
              "      <td>all wheel drive</td>\n",
              "      <td>flex-fuel (premium unleaded recommended/E85)</td>\n",
              "      <td>58228.571429</td>\n",
              "    </tr>\n",
              "    <tr>\n",
              "      <th>3</th>\n",
              "      <td>all wheel drive</td>\n",
              "      <td>flex-fuel (premium unleaded required/E85)</td>\n",
              "      <td>228254.166667</td>\n",
              "    </tr>\n",
              "    <tr>\n",
              "      <th>4</th>\n",
              "      <td>all wheel drive</td>\n",
              "      <td>flex-fuel (unleaded/E85)</td>\n",
              "      <td>38182.261905</td>\n",
              "    </tr>\n",
              "    <tr>\n",
              "      <th>5</th>\n",
              "      <td>all wheel drive</td>\n",
              "      <td>premium unleaded (recommended)</td>\n",
              "      <td>43755.635071</td>\n",
              "    </tr>\n",
              "    <tr>\n",
              "      <th>6</th>\n",
              "      <td>all wheel drive</td>\n",
              "      <td>premium unleaded (required)</td>\n",
              "      <td>97555.950777</td>\n",
              "    </tr>\n",
              "    <tr>\n",
              "      <th>7</th>\n",
              "      <td>all wheel drive</td>\n",
              "      <td>regular unleaded</td>\n",
              "      <td>31769.730348</td>\n",
              "    </tr>\n",
              "    <tr>\n",
              "      <th>8</th>\n",
              "      <td>four wheel drive</td>\n",
              "      <td>diesel</td>\n",
              "      <td>79450.000000</td>\n",
              "    </tr>\n",
              "    <tr>\n",
              "      <th>9</th>\n",
              "      <td>four wheel drive</td>\n",
              "      <td>flex-fuel (premium unleaded required/E85)</td>\n",
              "      <td>104369.500000</td>\n",
              "    </tr>\n",
              "    <tr>\n",
              "      <th>10</th>\n",
              "      <td>four wheel drive</td>\n",
              "      <td>flex-fuel (unleaded/E85)</td>\n",
              "      <td>42436.829091</td>\n",
              "    </tr>\n",
              "    <tr>\n",
              "      <th>11</th>\n",
              "      <td>four wheel drive</td>\n",
              "      <td>premium unleaded (recommended)</td>\n",
              "      <td>85466.250000</td>\n",
              "    </tr>\n",
              "    <tr>\n",
              "      <th>12</th>\n",
              "      <td>four wheel drive</td>\n",
              "      <td>premium unleaded (required)</td>\n",
              "      <td>68527.673077</td>\n",
              "    </tr>\n",
              "    <tr>\n",
              "      <th>13</th>\n",
              "      <td>four wheel drive</td>\n",
              "      <td>regular unleaded</td>\n",
              "      <td>26919.476861</td>\n",
              "    </tr>\n",
              "    <tr>\n",
              "      <th>14</th>\n",
              "      <td>front wheel drive</td>\n",
              "      <td>diesel</td>\n",
              "      <td>28912.898551</td>\n",
              "    </tr>\n",
              "    <tr>\n",
              "      <th>15</th>\n",
              "      <td>front wheel drive</td>\n",
              "      <td>electric</td>\n",
              "      <td>33898.902439</td>\n",
              "    </tr>\n",
              "    <tr>\n",
              "      <th>16</th>\n",
              "      <td>front wheel drive</td>\n",
              "      <td>flex-fuel (premium unleaded recommended/E85)</td>\n",
              "      <td>37457.500000</td>\n",
              "    </tr>\n",
              "    <tr>\n",
              "      <th>17</th>\n",
              "      <td>front wheel drive</td>\n",
              "      <td>flex-fuel (unleaded/E85)</td>\n",
              "      <td>27315.260204</td>\n",
              "    </tr>\n",
              "    <tr>\n",
              "      <th>18</th>\n",
              "      <td>front wheel drive</td>\n",
              "      <td>flex-fuel (unleaded/natural gas)</td>\n",
              "      <td>39194.166667</td>\n",
              "    </tr>\n",
              "    <tr>\n",
              "      <th>19</th>\n",
              "      <td>front wheel drive</td>\n",
              "      <td>natural gas</td>\n",
              "      <td>28065.000000</td>\n",
              "    </tr>\n",
              "    <tr>\n",
              "      <th>20</th>\n",
              "      <td>front wheel drive</td>\n",
              "      <td>premium unleaded (recommended)</td>\n",
              "      <td>32257.840943</td>\n",
              "    </tr>\n",
              "    <tr>\n",
              "      <th>21</th>\n",
              "      <td>front wheel drive</td>\n",
              "      <td>premium unleaded (required)</td>\n",
              "      <td>29710.179310</td>\n",
              "    </tr>\n",
              "    <tr>\n",
              "      <th>22</th>\n",
              "      <td>front wheel drive</td>\n",
              "      <td>regular unleaded</td>\n",
              "      <td>20534.006049</td>\n",
              "    </tr>\n",
              "    <tr>\n",
              "      <th>23</th>\n",
              "      <td>rear wheel drive</td>\n",
              "      <td>diesel</td>\n",
              "      <td>25692.055556</td>\n",
              "    </tr>\n",
              "    <tr>\n",
              "      <th>24</th>\n",
              "      <td>rear wheel drive</td>\n",
              "      <td>electric</td>\n",
              "      <td>55527.500000</td>\n",
              "    </tr>\n",
              "    <tr>\n",
              "      <th>25</th>\n",
              "      <td>rear wheel drive</td>\n",
              "      <td>flex-fuel (unleaded/E85)</td>\n",
              "      <td>36188.088083</td>\n",
              "    </tr>\n",
              "    <tr>\n",
              "      <th>26</th>\n",
              "      <td>rear wheel drive</td>\n",
              "      <td>premium unleaded (recommended)</td>\n",
              "      <td>47293.074866</td>\n",
              "    </tr>\n",
              "    <tr>\n",
              "      <th>27</th>\n",
              "      <td>rear wheel drive</td>\n",
              "      <td>premium unleaded (required)</td>\n",
              "      <td>116330.982692</td>\n",
              "    </tr>\n",
              "    <tr>\n",
              "      <th>28</th>\n",
              "      <td>rear wheel drive</td>\n",
              "      <td>regular unleaded</td>\n",
              "      <td>20625.904483</td>\n",
              "    </tr>\n",
              "  </tbody>\n",
              "</table>\n",
              "</div>"
            ],
            "text/plain": [
              "        Driven_Wheels  ...           MSRP\n",
              "0     all wheel drive  ...   55652.460317\n",
              "1     all wheel drive  ...   90636.363636\n",
              "2     all wheel drive  ...   58228.571429\n",
              "3     all wheel drive  ...  228254.166667\n",
              "4     all wheel drive  ...   38182.261905\n",
              "5     all wheel drive  ...   43755.635071\n",
              "6     all wheel drive  ...   97555.950777\n",
              "7     all wheel drive  ...   31769.730348\n",
              "8    four wheel drive  ...   79450.000000\n",
              "9    four wheel drive  ...  104369.500000\n",
              "10   four wheel drive  ...   42436.829091\n",
              "11   four wheel drive  ...   85466.250000\n",
              "12   four wheel drive  ...   68527.673077\n",
              "13   four wheel drive  ...   26919.476861\n",
              "14  front wheel drive  ...   28912.898551\n",
              "15  front wheel drive  ...   33898.902439\n",
              "16  front wheel drive  ...   37457.500000\n",
              "17  front wheel drive  ...   27315.260204\n",
              "18  front wheel drive  ...   39194.166667\n",
              "19  front wheel drive  ...   28065.000000\n",
              "20  front wheel drive  ...   32257.840943\n",
              "21  front wheel drive  ...   29710.179310\n",
              "22  front wheel drive  ...   20534.006049\n",
              "23   rear wheel drive  ...   25692.055556\n",
              "24   rear wheel drive  ...   55527.500000\n",
              "25   rear wheel drive  ...   36188.088083\n",
              "26   rear wheel drive  ...   47293.074866\n",
              "27   rear wheel drive  ...  116330.982692\n",
              "28   rear wheel drive  ...   20625.904483\n",
              "\n",
              "[29 rows x 3 columns]"
            ]
          },
          "metadata": {
            "tags": []
          },
          "execution_count": 70
        }
      ]
    },
    {
      "cell_type": "code",
      "metadata": {
        "id": "Z4wLuas0WLdy",
        "colab_type": "code",
        "colab": {
          "base_uri": "https://localhost:8080/",
          "height": 85
        },
        "outputId": "0c3502be-2c26-4543-9311-604f38f5644e"
      },
      "source": [
        "df_group_one.max()"
      ],
      "execution_count": 71,
      "outputs": [
        {
          "output_type": "execute_result",
          "data": {
            "text/plain": [
              "Driven_Wheels       rear wheel drive\n",
              "Engine Fuel Type    regular unleaded\n",
              "MSRP                          228254\n",
              "dtype: object"
            ]
          },
          "metadata": {
            "tags": []
          },
          "execution_count": 71
        }
      ]
    },
    {
      "cell_type": "markdown",
      "metadata": {
        "id": "sDMwTtJoZBLb",
        "colab_type": "text"
      },
      "source": [
        "# 3.ANOVA\n",
        "ANOVA: Analysis of Variance\n",
        "The Analysis of Variance (ANOVA) is a statistical method used to test whether there are significant differences between the means of two or more groups. ANOVA returns two parameters:\n",
        "\n",
        "F-test score: ANOVA assumes the means of all groups are the same, calculates how much the actual means deviate from the assumption, and reports it as the F-test score. A larger score means there is a larger difference between the means.\n",
        "\n",
        "P-value: P-value tells how statistically significant is our calculated score value.\n",
        "\n",
        "If our price variable is strongly correlated with the variable we are analyzing, expect ANOVA to return a sizeable F-test score and a small p-value.\n",
        "\n"
      ]
    },
    {
      "cell_type": "code",
      "metadata": {
        "id": "O-lirIDrXhEt",
        "colab_type": "code",
        "colab": {
          "base_uri": "https://localhost:8080/",
          "height": 297
        },
        "outputId": "7fc0416e-6a9b-47a6-b3a0-77313f31f829"
      },
      "source": [
        "grouped_test2=cars_df[['Driven_Wheels', 'MSRP']].groupby(['Driven_Wheels'])\n",
        "grouped_test2.head(2)"
      ],
      "execution_count": 72,
      "outputs": [
        {
          "output_type": "execute_result",
          "data": {
            "text/html": [
              "<div>\n",
              "<style scoped>\n",
              "    .dataframe tbody tr th:only-of-type {\n",
              "        vertical-align: middle;\n",
              "    }\n",
              "\n",
              "    .dataframe tbody tr th {\n",
              "        vertical-align: top;\n",
              "    }\n",
              "\n",
              "    .dataframe thead th {\n",
              "        text-align: right;\n",
              "    }\n",
              "</style>\n",
              "<table border=\"1\" class=\"dataframe\">\n",
              "  <thead>\n",
              "    <tr style=\"text-align: right;\">\n",
              "      <th></th>\n",
              "      <th>Driven_Wheels</th>\n",
              "      <th>MSRP</th>\n",
              "    </tr>\n",
              "  </thead>\n",
              "  <tbody>\n",
              "    <tr>\n",
              "      <th>0</th>\n",
              "      <td>rear wheel drive</td>\n",
              "      <td>46135</td>\n",
              "    </tr>\n",
              "    <tr>\n",
              "      <th>1</th>\n",
              "      <td>rear wheel drive</td>\n",
              "      <td>40650</td>\n",
              "    </tr>\n",
              "    <tr>\n",
              "      <th>17</th>\n",
              "      <td>front wheel drive</td>\n",
              "      <td>2000</td>\n",
              "    </tr>\n",
              "    <tr>\n",
              "      <th>18</th>\n",
              "      <td>front wheel drive</td>\n",
              "      <td>2000</td>\n",
              "    </tr>\n",
              "    <tr>\n",
              "      <th>19</th>\n",
              "      <td>all wheel drive</td>\n",
              "      <td>2000</td>\n",
              "    </tr>\n",
              "    <tr>\n",
              "      <th>21</th>\n",
              "      <td>all wheel drive</td>\n",
              "      <td>2000</td>\n",
              "    </tr>\n",
              "    <tr>\n",
              "      <th>481</th>\n",
              "      <td>four wheel drive</td>\n",
              "      <td>37615</td>\n",
              "    </tr>\n",
              "    <tr>\n",
              "      <th>482</th>\n",
              "      <td>four wheel drive</td>\n",
              "      <td>34695</td>\n",
              "    </tr>\n",
              "  </tbody>\n",
              "</table>\n",
              "</div>"
            ],
            "text/plain": [
              "         Driven_Wheels   MSRP\n",
              "0     rear wheel drive  46135\n",
              "1     rear wheel drive  40650\n",
              "17   front wheel drive   2000\n",
              "18   front wheel drive   2000\n",
              "19     all wheel drive   2000\n",
              "21     all wheel drive   2000\n",
              "481   four wheel drive  37615\n",
              "482   four wheel drive  34695"
            ]
          },
          "metadata": {
            "tags": []
          },
          "execution_count": 72
        }
      ]
    },
    {
      "cell_type": "code",
      "metadata": {
        "id": "eDlL1sQUZbxU",
        "colab_type": "code",
        "colab": {
          "base_uri": "https://localhost:8080/",
          "height": 221
        },
        "outputId": "0375be66-a209-4530-c318-9705d6c2174c"
      },
      "source": [
        "grouped_test2.get_group('rear wheel drive')['MSRP']"
      ],
      "execution_count": 73,
      "outputs": [
        {
          "output_type": "execute_result",
          "data": {
            "text/plain": [
              "0         46135\n",
              "1         40650\n",
              "2         36350\n",
              "3         29450\n",
              "4         34500\n",
              "          ...  \n",
              "11901     49700\n",
              "11902     66350\n",
              "11903    128000\n",
              "11904    130000\n",
              "11905    131500\n",
              "Name: MSRP, Length: 3371, dtype: int64"
            ]
          },
          "metadata": {
            "tags": []
          },
          "execution_count": 73
        }
      ]
    },
    {
      "cell_type": "code",
      "metadata": {
        "id": "HdSHSCblZuPb",
        "colab_type": "code",
        "colab": {
          "base_uri": "https://localhost:8080/",
          "height": 34
        },
        "outputId": "b277f083-7ec2-40c2-ea80-05be64056ec6"
      },
      "source": [
        "# ANOVA\n",
        "from scipy import stats\n",
        "f_val, p_val = stats.f_oneway(grouped_test2.get_group('front wheel drive')['MSRP'], \n",
        "                              grouped_test2.get_group('rear wheel drive')['MSRP'],\n",
        "                              grouped_test2.get_group('all wheel drive')['MSRP'],\n",
        "                              grouped_test2.get_group('four wheel drive')['MSRP'])  \n",
        " \n",
        "print( \"ANOVA results: F=\", f_val, \", P =\", p_val) "
      ],
      "execution_count": 74,
      "outputs": [
        {
          "output_type": "stream",
          "text": [
            "ANOVA results: F= 296.17052853292216 , P = 1.9102186411900623e-185\n"
          ],
          "name": "stdout"
        }
      ]
    },
    {
      "cell_type": "markdown",
      "metadata": {
        "id": "2vjWjO1prlna",
        "colab_type": "text"
      },
      "source": [
        "F value is high and P values very small as intended which shows there is good relation between Wheels_driven column and price of the car"
      ]
    },
    {
      "cell_type": "markdown",
      "metadata": {
        "id": "0xaroJrdsKR-",
        "colab_type": "text"
      },
      "source": [
        "# 4. Pearson Correaltion \n",
        "Correlation: a measure of the extent of interdependence between variables.\n",
        "\n",
        "Causation: the relationship between cause and effect between two variables.\n",
        "\n",
        "It is important to know the difference between these two and that correlation does not imply causation. Determining correlation is much simpler the determining causation as causation may require independent experimentation.\n",
        "\n",
        "Pearson Correlation\n",
        "\n",
        "The Pearson Correlation measures the linear dependence between two variables X and Y.\n",
        "\n",
        "The resulting coefficient is a value between -1 and 1 inclusive, where:\n",
        "\n",
        "1. 1: Total positive linear correlation.\n",
        "2. 0: No linear correlation, the two variables most likely do not affect each other.\n",
        "3. -1: Total negative linear correlation.\n",
        "\n",
        "\n",
        "P-value:\n",
        "\n",
        "What is this P-value? The P-value is the probability value that the correlation between these two variables is statistically significant. Normally, we choose a significance level of 0.05, which means that we are 95% confident that the correlation between the variables is significant.\n",
        "\n",
        "By convention, when the\n",
        "\n",
        "1. p-value is  <  0.001: we say there is strong evidence that the correlation is significant.\n",
        "2. the p-value is  <  0.05: there is moderate evidence that the correlation is significant.\n",
        "3. the p-value is  <  0.1: there is weak evidence that the correlation is significant.\n",
        "4. the p-value is  >  0.1: there is no evidence that the correlation is significant."
      ]
    },
    {
      "cell_type": "code",
      "metadata": {
        "id": "5v7ci_CGau0c",
        "colab_type": "code",
        "colab": {
          "base_uri": "https://localhost:8080/",
          "height": 54
        },
        "outputId": "2645a761-30ec-4709-d6d9-f86dfc196193"
      },
      "source": [
        "pearson_coef, p_value = stats.pearsonr(cars_df['city mpg'], cars_df['MSRP'])\n",
        "print(\"The Pearson Correlation Coefficient is\", pearson_coef, \" with a P-value of P =\", p_value)  "
      ],
      "execution_count": 75,
      "outputs": [
        {
          "output_type": "stream",
          "text": [
            "The Pearson Correlation Coefficient is -0.15767572242668287  with a P-value of P = 3.493853598931253e-67\n"
          ],
          "name": "stdout"
        }
      ]
    },
    {
      "cell_type": "markdown",
      "metadata": {
        "id": "9_iB3GovuXEW",
        "colab_type": "text"
      },
      "source": [
        "As we have seen before in the Visualisation of city MPG and MSRP shown a negative relationship. The pearson coefficient here shows the negative linear correlation values which is not that strong"
      ]
    },
    {
      "cell_type": "code",
      "metadata": {
        "id": "W5os2YnY1lGc",
        "colab_type": "code",
        "colab": {
          "base_uri": "https://localhost:8080/",
          "height": 54
        },
        "outputId": "964a3cf8-2919-4576-fd91-2f1b3f509ecb"
      },
      "source": [
        "pearson_coef, p_value = stats.pearsonr(cars_df['highway MPG'], cars_df['MSRP'])\n",
        "print(\"The Pearson Correlation Coefficient is\", pearson_coef, \" with a P-value of P =\", p_value)  "
      ],
      "execution_count": 76,
      "outputs": [
        {
          "output_type": "stream",
          "text": [
            "The Pearson Correlation Coefficient is -0.1600426788520263  with a P-value of P = 3.477593360590622e-69\n"
          ],
          "name": "stdout"
        }
      ]
    },
    {
      "cell_type": "markdown",
      "metadata": {
        "id": "HUc0yTBg2Sx1",
        "colab_type": "text"
      },
      "source": [
        "P value is <0.001 which shows stronger correlation \n",
        "but the pearson linear correlation is not that strong"
      ]
    },
    {
      "cell_type": "code",
      "metadata": {
        "id": "brFU95-z3y4e",
        "colab_type": "code",
        "colab": {
          "base_uri": "https://localhost:8080/",
          "height": 34
        },
        "outputId": "ae10ef25-bafe-4baf-ce8d-1283d90931f8"
      },
      "source": [
        "pearson_coef, p_value = stats.pearsonr(cars_df['Engine HP'], cars_df['MSRP'])\n",
        "print(\"The Pearson Correlation Coefficient is\", pearson_coef, \" with a P-value of P =\", p_value)  "
      ],
      "execution_count": 77,
      "outputs": [
        {
          "output_type": "stream",
          "text": [
            "The Pearson Correlation Coefficient is 0.6616413888939616  with a P-value of P = 0.0\n"
          ],
          "name": "stdout"
        }
      ]
    },
    {
      "cell_type": "code",
      "metadata": {
        "id": "F64t-nRZ4Uxs",
        "colab_type": "code",
        "colab": {
          "base_uri": "https://localhost:8080/",
          "height": 34
        },
        "outputId": "28e88c77-eb58-4558-af3f-4740c7f8d3aa"
      },
      "source": [
        "pearson_coef, p_value = stats.pearsonr(cars_df['Engine Cylinders'], cars_df['MSRP'])\n",
        "print(\"The Pearson Correlation Coefficient is\", pearson_coef, \" with a P-value of P =\", p_value)  "
      ],
      "execution_count": 78,
      "outputs": [
        {
          "output_type": "stream",
          "text": [
            "The Pearson Correlation Coefficient is 0.5311385518158194  with a P-value of P = 0.0\n"
          ],
          "name": "stdout"
        }
      ]
    },
    {
      "cell_type": "markdown",
      "metadata": {
        "id": "AjYbEu4f4e4s",
        "colab_type": "text"
      },
      "source": [
        "P_ value for Engine HP and Enginer Cylinders is 0 shows a significant correlation\n",
        "Whereas the linear relationship is not that strong in both cases"
      ]
    },
    {
      "cell_type": "markdown",
      "metadata": {
        "id": "NxA8lN0k4uRo",
        "colab_type": "text"
      },
      "source": [
        "# Correlation and Heat Maps\n"
      ]
    },
    {
      "cell_type": "code",
      "metadata": {
        "id": "F_dBjqRH5Pvj",
        "colab_type": "code",
        "colab": {}
      },
      "source": [
        "corr = cars_df.corr()"
      ],
      "execution_count": 79,
      "outputs": []
    },
    {
      "cell_type": "code",
      "metadata": {
        "id": "IUERTLI67lXK",
        "colab_type": "code",
        "colab": {
          "base_uri": "https://localhost:8080/",
          "height": 361
        },
        "outputId": "36860922-0631-48d7-8d6e-9538fb5635b7"
      },
      "source": [
        "sns.heatmap(corr)"
      ],
      "execution_count": 80,
      "outputs": [
        {
          "output_type": "execute_result",
          "data": {
            "text/plain": [
              "<matplotlib.axes._subplots.AxesSubplot at 0x7f05a9a71320>"
            ]
          },
          "metadata": {
            "tags": []
          },
          "execution_count": 80
        },
        {
          "output_type": "display_data",
          "data": {
            "image/png": "[encoded data removed]",
            "text/plain": [
              "<Figure size 432x288 with 2 Axes>"
            ]
          },
          "metadata": {
            "tags": [],
            "needs_background": "light"
          }
        }
      ]
    },
    {
      "cell_type": "code",
      "metadata": {
        "id": "sQhLaE2K73cm",
        "colab_type": "code",
        "colab": {
          "base_uri": "https://localhost:8080/",
          "height": 323
        },
        "outputId": "ad7db8d7-5251-44b4-854b-228f683dbf4c"
      },
      "source": [
        "import heapq\n",
        "\n",
        "print('Absolute overall correlations')\n",
        "print('-' * 30)\n",
        "correlations_abs_sum = corr[corr.columns].abs().sum()\n",
        "print(correlations_abs_sum, '\\n')\n",
        "\n",
        "print('Weakest correlations')\n",
        "print('-' * 30)\n",
        "print(correlations_abs_sum.nsmallest(3))"
      ],
      "execution_count": 81,
      "outputs": [
        {
          "output_type": "stream",
          "text": [
            "Absolute overall correlations\n",
            "------------------------------\n",
            "Year                2.413356\n",
            "Engine HP           3.617524\n",
            "Engine Cylinders    3.683090\n",
            "Number of Doors     1.912289\n",
            "highway MPG         3.395407\n",
            "city mpg            3.274613\n",
            "Popularity          1.272134\n",
            "MSRP                2.913407\n",
            "dtype: float64 \n",
            "\n",
            "Weakest correlations\n",
            "------------------------------\n",
            "Popularity         1.272134\n",
            "Number of Doors    1.912289\n",
            "Year               2.413356\n",
            "dtype: float64\n"
          ],
          "name": "stdout"
        }
      ]
    }
  ]
}